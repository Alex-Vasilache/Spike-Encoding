{
 "cells": [
  {
   "cell_type": "markdown",
   "metadata": {},
   "source": [
    "# Gymnasium Encoder Example\n",
    "This example illustrates how to encode the observations of cartpole from the gymnasium package.\n",
    "\n",
    "Prerequisites:\n",
    "- gymnasium\n",
    "- gymnasium[classic-control]\n",
    "- This library"
   ]
  },
  {
   "cell_type": "code",
   "execution_count": 9,
   "metadata": {},
   "outputs": [
    {
     "name": "stdout",
     "output_type": "stream",
     "text": [
      "Requirement already satisfied: gymnasium in /home/jona/mambaforge/envs/neuro/lib/python3.11/site-packages (0.29.1)\n",
      "Requirement already satisfied: numpy>=1.21.0 in /home/jona/mambaforge/envs/neuro/lib/python3.11/site-packages (from gymnasium) (1.26.4)\n",
      "Requirement already satisfied: cloudpickle>=1.2.0 in /home/jona/mambaforge/envs/neuro/lib/python3.11/site-packages (from gymnasium) (3.0.0)\n",
      "Requirement already satisfied: typing-extensions>=4.3.0 in /home/jona/mambaforge/envs/neuro/lib/python3.11/site-packages (from gymnasium) (4.12.2)\n",
      "Requirement already satisfied: farama-notifications>=0.0.1 in /home/jona/mambaforge/envs/neuro/lib/python3.11/site-packages (from gymnasium) (0.0.4)\n",
      "Requirement already satisfied: gymnasium[classic-control] in /home/jona/mambaforge/envs/neuro/lib/python3.11/site-packages (0.29.1)\n",
      "Requirement already satisfied: numpy>=1.21.0 in /home/jona/mambaforge/envs/neuro/lib/python3.11/site-packages (from gymnasium[classic-control]) (1.26.4)\n",
      "Requirement already satisfied: cloudpickle>=1.2.0 in /home/jona/mambaforge/envs/neuro/lib/python3.11/site-packages (from gymnasium[classic-control]) (3.0.0)\n",
      "Requirement already satisfied: typing-extensions>=4.3.0 in /home/jona/mambaforge/envs/neuro/lib/python3.11/site-packages (from gymnasium[classic-control]) (4.12.2)\n",
      "Requirement already satisfied: farama-notifications>=0.0.1 in /home/jona/mambaforge/envs/neuro/lib/python3.11/site-packages (from gymnasium[classic-control]) (0.0.4)\n",
      "Requirement already satisfied: pygame>=2.1.3 in /home/jona/mambaforge/envs/neuro/lib/python3.11/site-packages (from gymnasium[classic-control]) (2.6.0)\n"
     ]
    }
   ],
   "source": [
    "!pip install gymnasium \n",
    "!pip install gymnasium[classic-control]"
   ]
  },
  {
   "cell_type": "code",
   "execution_count": 10,
   "metadata": {},
   "outputs": [],
   "source": [
    "import gymnasium as gym\n",
    "from encoding.gymnasium_bounds_finder import ScalerFactory\n",
    "from encoding.gymnasium_encoder import GymnasiumEncoder\n",
    "import numpy as np"
   ]
  },
  {
   "cell_type": "code",
   "execution_count": 11,
   "metadata": {},
   "outputs": [
    {
     "name": "stdout",
     "output_type": "stream",
     "text": [
      "First observation: [ 0.00662101 -0.02290802 -0.00224132  0.00596699]\n"
     ]
    }
   ],
   "source": [
    "cartpole_env = gym.make(\"CartPole-v1\")\n",
    "# NOTE: the encoder is built around encoding multiple states at once\n",
    "# Great for running multiple simulations in batches\n",
    "batch_size = 1\n",
    "\n",
    "# Get first observation: [cart position, cart velocity, cart angle (radians), cart angular velocity]\n",
    "first_observation = cartpole_env.reset(seed=1970)[0]\n",
    "print(\"First observation:\", first_observation)\n",
    "\n",
    "# Prepare state for encoding (needs to be np.array for batch processing)\n",
    "state_to_encode = np.array([first_observation])"
   ]
  },
  {
   "cell_type": "code",
   "execution_count": 12,
   "metadata": {},
   "outputs": [],
   "source": [
    "# Number of timesteps in the resulting spike train\n",
    "seq_length = 10\n",
    "\n",
    "# When True, negative values will be separated into different columns\n",
    "# Example with exc_inh=True:  Observation: [-0.66] → Spike train: [[-1], [0], [-1]]\n",
    "# Example with exc_inh=False: Observation: [-0.66] → Spike train: [[0, 1], [0, 0], [0, 1]]\n",
    "exc_inh = False\n",
    "\n",
    "# Set up scaling for the observations\n",
    "scaler_factory = ScalerFactory()\n",
    "max_values = np.array([2.4, 10, 0.2095, 10])\n",
    "min_values = -max_values\n",
    "scaler = scaler_factory.from_known_values(min_values, max_values)"
   ]
  },
  {
   "cell_type": "code",
   "execution_count": 13,
   "metadata": {},
   "outputs": [
    {
     "name": "stdout",
     "output_type": "stream",
     "text": [
      "Encoded first state:\n",
      "[[[1 1 1 1]]\n",
      "\n",
      " [[1 0 0 1]]\n",
      "\n",
      " [[0 1 1 0]]\n",
      "\n",
      " [[1 0 0 1]]\n",
      "\n",
      " [[0 1 1 0]]\n",
      "\n",
      " [[1 0 0 1]]\n",
      "\n",
      " [[0 1 1 0]]\n",
      "\n",
      " [[1 0 0 1]]\n",
      "\n",
      " [[0 0 0 0]]\n",
      "\n",
      " [[1 1 1 1]]]\n"
     ]
    }
   ],
   "source": [
    "# Create encoder\n",
    "encoder = GymnasiumEncoder(\n",
    "    cartpole_env.observation_space.shape[0],\n",
    "    batch_size,\n",
    "    seq_length,\n",
    "    scaler,\n",
    "    rate_coder=True,\n",
    "    step_coder=False,\n",
    "    split_exc_inh=exc_inh,\n",
    ")\n",
    "\n",
    "# Encode first state\n",
    "encoded_first_state = encoder.encode(state_to_encode)\n",
    "print(\"Encoded first state:\")\n",
    "print(encoded_first_state)"
   ]
  },
  {
   "cell_type": "code",
   "execution_count": 14,
   "metadata": {},
   "outputs": [
    {
     "name": "stdout",
     "output_type": "stream",
     "text": [
      "Second observation: [ 0.00616285  0.17224601 -0.00212199 -0.28742227]\n",
      "\n",
      "Encoded second state:\n",
      "[[[1 1 1 1]]\n",
      "\n",
      " [[1 1 0 0]]\n",
      "\n",
      " [[0 0 1 1]]\n",
      "\n",
      " [[1 1 0 0]]\n",
      "\n",
      " [[0 0 1 1]]\n",
      "\n",
      " [[1 1 0 0]]\n",
      "\n",
      " [[0 0 1 1]]\n",
      "\n",
      " [[1 1 0 0]]\n",
      "\n",
      " [[0 0 0 0]]\n",
      "\n",
      " [[1 1 1 1]]]\n"
     ]
    }
   ],
   "source": [
    "# Get and encode second state\n",
    "second_observation = cartpole_env.step(1)[0]\n",
    "print(\"Second observation:\", second_observation)\n",
    "\n",
    "second_state_to_encode = np.array([second_observation])\n",
    "encoded_second_state = encoder.encode(second_state_to_encode)\n",
    "print(\"\\nEncoded second state:\")\n",
    "print(encoded_second_state)"
   ]
  }
 ],
 "metadata": {
  "kernelspec": {
   "display_name": "neuro",
   "language": "python",
   "name": "python3"
  },
  "language_info": {
   "codemirror_mode": {
    "name": "ipython",
    "version": 3
   },
   "file_extension": ".py",
   "mimetype": "text/x-python",
   "name": "python",
   "nbconvert_exporter": "python",
   "pygments_lexer": "ipython3",
   "version": "3.11.10"
  }
 },
 "nbformat": 4,
 "nbformat_minor": 2
}
